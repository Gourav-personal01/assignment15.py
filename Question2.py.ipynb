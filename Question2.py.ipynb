{
 "cells": [
  {
   "cell_type": "code",
   "execution_count": 1,
   "id": "afab2e16-e7cc-4d4c-9ee4-42c7cf53c929",
   "metadata": {},
   "outputs": [],
   "source": [
    "#Create a simple Flask application to display ‘Hello World!!’. Attach the screenshot of the output in Jupyter Notebook.\n"
   ]
  },
  {
   "attachments": {
    "fe7094b2-5273-4486-880a-a29892699225.png": {
     "image/png": "[encoded data removed]"
    }
   },
   "cell_type": "markdown",
   "id": "bdd2679e-2ee8-4be2-bc06-ad686888cfa5",
   "metadata": {},
   "source": [
    "from flask import Flask\n",
    "\n",
    "app = Flask(__name__)\n",
    "\n",
    "@app.route('/')\n",
    "def hello_prg():\n",
    "    print(\"hello world\")\n",
    "    return \"Hello, World!\"\n",
    "\n",
    "if __name__ == \"__main__\":\n",
    "    app.run()\n",
    "    \n",
    "\n",
    "\n",
    "![image.png](attachment:fe7094b2-5273-4486-880a-a29892699225.png)\n"
   ]
  },
  {
   "cell_type": "code",
   "execution_count": null,
   "id": "bb704c0a-6089-4913-b159-6c7a8dce06e2",
   "metadata": {},
   "outputs": [],
   "source": []
  },
  {
   "cell_type": "code",
   "execution_count": null,
   "id": "97ce5bd2-aba6-4031-8181-a7727293b738",
   "metadata": {},
   "outputs": [],
   "source": []
  },
  {
   "cell_type": "code",
   "execution_count": null,
   "id": "04e02bbf-eb93-4041-a70f-f547d4a9a50b",
   "metadata": {},
   "outputs": [],
   "source": []
  },
  {
   "cell_type": "code",
   "execution_count": null,
   "id": "0e3e53d3-6db3-4cbc-ba2b-5a241e5e813e",
   "metadata": {},
   "outputs": [],
   "source": []
  }
 ],
 "metadata": {
  "kernelspec": {
   "display_name": "Python 3 (ipykernel)",
   "language": "python",
   "name": "python3"
  },
  "language_info": {
   "codemirror_mode": {
    "name": "ipython",
    "version": 3
   },
   "file_extension": ".py",
   "mimetype": "text/x-python",
   "name": "python",
   "nbconvert_exporter": "python",
   "pygments_lexer": "ipython3",
   "version": "3.10.8"
  }
 },
 "nbformat": 4,
 "nbformat_minor": 5
}
